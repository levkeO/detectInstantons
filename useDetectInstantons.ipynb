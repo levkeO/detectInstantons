{
 "cells": [
  {
   "cell_type": "code",
   "execution_count": 5,
   "id": "350d8fa0",
   "metadata": {},
   "outputs": [],
   "source": [
    "import glob\n",
    "import singPartDist as sp\n",
    "import detectInstantons as dI\n",
    "import numpy as np\n",
    "import pylab as pl\n",
    "import pandas as pd\n"
   ]
  },
  {
   "cell_type": "markdown",
   "id": "ae1bb7f0",
   "metadata": {},
   "source": [
    "### Specify the files and the parameters of the trajectory ###"
   ]
  },
  {
   "cell_type": "code",
   "execution_count": 2,
   "id": "dcaf3f5f",
   "metadata": {},
   "outputs": [
    {
     "name": "stdout",
     "output_type": "stream",
     "text": [
      "5  files found.\n"
     ]
    }
   ],
   "source": [
    "fileName = glob.glob('/media/xn18583/Elements/allBC3/dataTrond/KA_21/glass/T0.48/forFascilitation/T0.48_N10002_NVT_KA21_step_1LJ_startFrame*20.xyz') \n",
    "print(len(fileName), ' files found.')\n",
    "rho=1.4               # number density\n",
    "N = 10002             # number of particles \n",
    "L  = (N/rho)**(1./3.) # box length (square box assumed)\n",
    "ta = 200              # excitation fit length\n",
    "a = 0.5               # threshold for excitation detection\n",
    "numFrames = 1001    # number of frames\n",
    "\n"
   ]
  },
  {
   "cell_type": "code",
   "execution_count": 3,
   "id": "1515f482",
   "metadata": {
    "scrolled": true
   },
   "outputs": [
    {
     "name": "stderr",
     "output_type": "stream",
     "text": [
      "100%|█████████████████████████████████████████████████████████████| 10002/10002 [00:27<00:00, 365.28it/s]\n"
     ]
    },
    {
     "name": "stdout",
     "output_type": "stream",
     "text": [
      "In run  220 the algorithm detected  22 excitations.\n",
      "The fit failed  0  times and deltat was too long  0  times!\n"
     ]
    },
    {
     "name": "stderr",
     "output_type": "stream",
     "text": [
      "100%|█████████████████████████████████████████████████████████████| 10002/10002 [01:11<00:00, 140.15it/s]\n"
     ]
    },
    {
     "name": "stdout",
     "output_type": "stream",
     "text": [
      "In run  20 the algorithm detected  73 excitations.\n",
      "The fit failed  0  times and deltat was too long  0  times!\n"
     ]
    },
    {
     "name": "stderr",
     "output_type": "stream",
     "text": [
      "100%|█████████████████████████████████████████████████████████████| 10002/10002 [00:45<00:00, 220.02it/s]\n"
     ]
    },
    {
     "name": "stdout",
     "output_type": "stream",
     "text": [
      "In run  120 the algorithm detected  40 excitations.\n",
      "The fit failed  0  times and deltat was too long  2  times!\n"
     ]
    },
    {
     "name": "stderr",
     "output_type": "stream",
     "text": [
      "100%|█████████████████████████████████████████████████████████████| 10002/10002 [00:34<00:00, 290.25it/s]\n"
     ]
    },
    {
     "name": "stdout",
     "output_type": "stream",
     "text": [
      "In run  320 the algorithm detected  30 excitations.\n",
      "The fit failed  0  times and deltat was too long  0  times!\n"
     ]
    },
    {
     "name": "stderr",
     "output_type": "stream",
     "text": [
      "100%|█████████████████████████████████████████████████████████████| 10002/10002 [00:34<00:00, 287.30it/s]"
     ]
    },
    {
     "name": "stdout",
     "output_type": "stream",
     "text": [
      "In run  420 the algorithm detected  32 excitations.\n",
      "The fit failed  0  times and deltat was too long  0  times!\n"
     ]
    },
    {
     "name": "stderr",
     "output_type": "stream",
     "text": [
      "\n"
     ]
    }
   ],
   "source": [
    "excitationIDs = pd.DataFrame(columns = [ 'fileID', 'particleID', 't_0', 'deltat','amplitude']) # results file\n",
    "for xyzfile in fileName:\n",
    "    fileID= str(int(xyzfile[xyzfile.find('startFrame')+10:xyzfile.find('.xyz')]))       # find the file ID (in my case frame from the run was started)\n",
    "    instantonIDs,failCount = dI.detect(xyzfile,fileID,ta,a,N,numFrames,L)                  # find instantons in file\n",
    "    print('In run ',fileID, 'the algorithm detected ',len(instantonIDs), 'excitations.')\t\n",
    "    print('The fit failed ',failCount[0],' times and deltat was too long ',failCount[1],' times!')\n",
    "    excitationIDs = pd.concat([excitationIDs,instantonIDs])                             # add instantons detected in this file to results\n"
   ]
  },
  {
   "cell_type": "code",
   "execution_count": 7,
   "id": "0fc4eb59",
   "metadata": {},
   "outputs": [],
   "source": [
    "excitationIDs.to_csv('excitation_example.csv', index=False)                # save results"
   ]
  },
  {
   "cell_type": "code",
   "execution_count": 8,
   "id": "b69201b9",
   "metadata": {},
   "outputs": [
    {
     "data": {
      "text/html": [
       "<div>\n",
       "<style scoped>\n",
       "    .dataframe tbody tr th:only-of-type {\n",
       "        vertical-align: middle;\n",
       "    }\n",
       "\n",
       "    .dataframe tbody tr th {\n",
       "        vertical-align: top;\n",
       "    }\n",
       "\n",
       "    .dataframe thead th {\n",
       "        text-align: right;\n",
       "    }\n",
       "</style>\n",
       "<table border=\"1\" class=\"dataframe\">\n",
       "  <thead>\n",
       "    <tr style=\"text-align: right;\">\n",
       "      <th></th>\n",
       "      <th>fileID</th>\n",
       "      <th>particleID</th>\n",
       "      <th>t_0</th>\n",
       "      <th>deltat</th>\n",
       "      <th>amplitude</th>\n",
       "    </tr>\n",
       "  </thead>\n",
       "  <tbody>\n",
       "    <tr>\n",
       "      <th>0</th>\n",
       "      <td>220</td>\n",
       "      <td>567</td>\n",
       "      <td>328.483498</td>\n",
       "      <td>2.251033</td>\n",
       "      <td>0.492876</td>\n",
       "    </tr>\n",
       "    <tr>\n",
       "      <th>1</th>\n",
       "      <td>220</td>\n",
       "      <td>600</td>\n",
       "      <td>497.938030</td>\n",
       "      <td>1.681909</td>\n",
       "      <td>0.448851</td>\n",
       "    </tr>\n",
       "    <tr>\n",
       "      <th>2</th>\n",
       "      <td>220</td>\n",
       "      <td>1322</td>\n",
       "      <td>514.862374</td>\n",
       "      <td>124.834909</td>\n",
       "      <td>0.636103</td>\n",
       "    </tr>\n",
       "    <tr>\n",
       "      <th>3</th>\n",
       "      <td>220</td>\n",
       "      <td>1463</td>\n",
       "      <td>328.146400</td>\n",
       "      <td>2.497262</td>\n",
       "      <td>0.658990</td>\n",
       "    </tr>\n",
       "    <tr>\n",
       "      <th>4</th>\n",
       "      <td>220</td>\n",
       "      <td>3707</td>\n",
       "      <td>486.519640</td>\n",
       "      <td>2.133311</td>\n",
       "      <td>0.541377</td>\n",
       "    </tr>\n",
       "  </tbody>\n",
       "</table>\n",
       "</div>"
      ],
      "text/plain": [
       "  fileID particleID         t_0      deltat  amplitude\n",
       "0    220        567  328.483498    2.251033   0.492876\n",
       "1    220        600  497.938030    1.681909   0.448851\n",
       "2    220       1322  514.862374  124.834909   0.636103\n",
       "3    220       1463  328.146400    2.497262   0.658990\n",
       "4    220       3707  486.519640    2.133311   0.541377"
      ]
     },
     "execution_count": 8,
     "metadata": {},
     "output_type": "execute_result"
    }
   ],
   "source": [
    "# inspect results\n",
    "excitationIDs.head()"
   ]
  },
  {
   "cell_type": "markdown",
   "id": "554efaee",
   "metadata": {},
   "source": [
    "### Average number of excitations per frame ###"
   ]
  },
  {
   "cell_type": "code",
   "execution_count": 9,
   "id": "fca1cbf5",
   "metadata": {},
   "outputs": [
    {
     "data": {
      "text/plain": [
       "39.4"
      ]
     },
     "execution_count": 9,
     "metadata": {},
     "output_type": "execute_result"
    }
   ],
   "source": [
    "excitationIDs.groupby('fileID').particleID.count().mean()"
   ]
  },
  {
   "cell_type": "markdown",
   "id": "2e5d5828",
   "metadata": {},
   "source": [
    "### Distribution of jump durations $\\Delta t$ ###"
   ]
  },
  {
   "cell_type": "markdown",
   "id": "9b797c5b",
   "metadata": {},
   "source": [
    "Many more files are required at this temperature to obtain decent statistics"
   ]
  },
  {
   "cell_type": "code",
   "execution_count": 10,
   "id": "d422af44",
   "metadata": {
    "scrolled": true
   },
   "outputs": [
    {
     "data": {
      "text/plain": [
       "Text(0, 0.5, '$p(\\\\Delta t)$')"
      ]
     },
     "execution_count": 10,
     "metadata": {},
     "output_type": "execute_result"
    },
    {
     "data": {
      "image/png": "[encoded data removed]",
      "text/plain": [
       "<Figure size 288x288 with 1 Axes>"
      ]
     },
     "metadata": {
      "needs_background": "light"
     },
     "output_type": "display_data"
    }
   ],
   "source": [
    "pl.figure(figsize = (4,4))\n",
    "bins = np.linspace(0, 100, 50)\n",
    "centres = (bins[1:] + bins[:-1]) / 2\n",
    "hist, cen = np.histogram(list(excitationIDs.deltat),bins = bins,density= True)\n",
    "pl.semilogy(centres,hist,linewidth=4,color='black')\n",
    "pl.semilogy(centres,hist,linewidth=3,color='blue')\n",
    "pl.xlabel(r'$\\Delta t$ [LJ]')\n",
    "pl.ylabel(r'$p(\\Delta t)$')"
   ]
  },
  {
   "cell_type": "code",
   "execution_count": null,
   "id": "71fea4e3",
   "metadata": {},
   "outputs": [],
   "source": []
  }
 ],
 "metadata": {
  "kernelspec": {
   "display_name": "Python 3 (ipykernel)",
   "language": "python",
   "name": "python3"
  },
  "language_info": {
   "codemirror_mode": {
    "name": "ipython",
    "version": 3
   },
   "file_extension": ".py",
   "mimetype": "text/x-python",
   "name": "python",
   "nbconvert_exporter": "python",
   "pygments_lexer": "ipython3",
   "version": "3.8.10"
  }
 },
 "nbformat": 4,
 "nbformat_minor": 5
}
