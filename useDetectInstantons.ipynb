{
 "cells": [
  {
   "cell_type": "code",
   "execution_count": 11,
   "id": "350d8fa0",
   "metadata": {},
   "outputs": [],
   "source": [
    "import glob\n",
    "import singPartDist as sp\n",
    "import detectInstantons as dI\n",
    "import numpy as np\n",
    "import pylab as pl\n",
    "import pandas as pd\n"
   ]
  },
  {
   "cell_type": "markdown",
   "id": "ae1bb7f0",
   "metadata": {},
   "source": [
    "### Specify the files and the parameters of the trajectory ###"
   ]
  },
  {
   "cell_type": "code",
   "execution_count": 12,
   "id": "dcaf3f5f",
   "metadata": {},
   "outputs": [
    {
     "name": "stdout",
     "output_type": "stream",
     "text": [
      "5  files found.\n"
     ]
    }
   ],
   "source": [
    "fileName = glob.glob('/media/xn18583/Elements/allBC3/dataTrond/KA_21/glass/T0.48/forFascilitation/T0.48_N10002_NVT_KA21_step_1LJ_startFrame*20.xyz') \n",
    "print(len(fileName), ' files found.')\n",
    "rho=1.4               # number density\n",
    "N = 10002             # number of particles \n",
    "L  = (N/rho)**(1./3.) # box length (square box assumed)\n",
    "ta = 200              # excitation fit length\n",
    "a = 0.5               # threshold for excitation detection\n",
    "numFrames = 1001    # number of frames\n",
    "\n"
   ]
  },
  {
   "cell_type": "code",
   "execution_count": null,
   "id": "1515f482",
   "metadata": {
    "scrolled": true
   },
   "outputs": [
    {
     "name": "stderr",
     "output_type": "stream",
     "text": [
      "100%|█████████████████████████████████████████████████████████████| 10002/10002 [00:27<00:00, 359.59it/s]\n"
     ]
    },
    {
     "name": "stdout",
     "output_type": "stream",
     "text": [
      "In run  220 the algorithm detected  22 excitations.\n",
      "The fit failed  0  times and deltat was too long  0  times!\n"
     ]
    },
    {
     "name": "stderr",
     "output_type": "stream",
     "text": [
      "100%|█████████████████████████████████████████████████████████████| 10002/10002 [01:12<00:00, 138.19it/s]\n"
     ]
    },
    {
     "name": "stdout",
     "output_type": "stream",
     "text": [
      "In run  20 the algorithm detected  73 excitations.\n",
      "The fit failed  0  times and deltat was too long  0  times!\n"
     ]
    },
    {
     "name": "stderr",
     "output_type": "stream",
     "text": [
      "100%|█████████████████████████████████████████████████████████████| 10002/10002 [00:45<00:00, 217.62it/s]\n"
     ]
    },
    {
     "name": "stdout",
     "output_type": "stream",
     "text": [
      "In run  120 the algorithm detected  40 excitations.\n",
      "The fit failed  0  times and deltat was too long  2  times!\n"
     ]
    },
    {
     "name": "stderr",
     "output_type": "stream",
     "text": [
      "100%|█████████████████████████████████████████████████████████████| 10002/10002 [00:34<00:00, 289.63it/s]\n"
     ]
    },
    {
     "name": "stdout",
     "output_type": "stream",
     "text": [
      "In run  320 the algorithm detected  30 excitations.\n",
      "The fit failed  0  times and deltat was too long  0  times!\n"
     ]
    }
   ],
   "source": [
    "excitationIDs = pd.DataFrame(columns = [ 'fileID', 'particleID', 't_0', 'deltat','amplitude']) # results file\n",
    "for xyzfile in fileName:\n",
    "    fileID= str(int(xyzfile[xyzfile.find('startFrame')+10:xyzfile.find('.xyz')]))       # find the file ID (in my case frame from the run was started)\n",
    "    instantonIDs,failCount = dI.detect(xyzfile,fileID,ta,a,N,numFrames,L)                  # find instantons in file\n",
    "    print('In run ',fileID, 'the algorithm detected ',len(instantonIDs), 'excitations.')\t\n",
    "    print('The fit failed ',failCount[0],' times and deltat was too long ',failCount[1],' times!')\n",
    "    excitationIDs = pd.concat([excitationIDs,instantonIDs])                             # add instantons detected in this file to results\n"
   ]
  },
  {
   "cell_type": "code",
   "execution_count": null,
   "id": "0fc4eb59",
   "metadata": {},
   "outputs": [],
   "source": [
    "excitationIDs.to_csv('excitation_example.csv', index=False)                # save results"
   ]
  },
  {
   "cell_type": "code",
   "execution_count": null,
   "id": "b69201b9",
   "metadata": {},
   "outputs": [],
   "source": [
    "# inspect results\n",
    "excitationIDs.head()"
   ]
  },
  {
   "cell_type": "markdown",
   "id": "554efaee",
   "metadata": {},
   "source": [
    "### Average number of excitations per frame ###"
   ]
  },
  {
   "cell_type": "code",
   "execution_count": null,
   "id": "fca1cbf5",
   "metadata": {},
   "outputs": [],
   "source": [
    "excitationIDs.groupby('fileID').particleID.count().mean()"
   ]
  },
  {
   "cell_type": "markdown",
   "id": "2e5d5828",
   "metadata": {},
   "source": [
    "### Distribution of jump durations $\\Delta t$ ###"
   ]
  },
  {
   "cell_type": "markdown",
   "id": "9b797c5b",
   "metadata": {},
   "source": [
    "Many more files are required at this temperature to obtain decent statistics"
   ]
  },
  {
   "cell_type": "code",
   "execution_count": null,
   "id": "d422af44",
   "metadata": {
    "scrolled": true
   },
   "outputs": [],
   "source": [
    "pl.figure(figsize = (4,4))\n",
    "bins = np.linspace(0, 100, 50)\n",
    "centres = (bins[1:] + bins[:-1]) / 2\n",
    "hist, cen = np.histogram(list(excitationIDs.deltat),bins = bins,density= True)\n",
    "pl.semilogy(centres,hist,linewidth=4,color='black')\n",
    "pl.semilogy(centres,hist,linewidth=3,color='blue')\n",
    "pl.xlabel(r'$\\Delta t$ [LJ]')\n",
    "pl.ylabel(r'$p(\\Delta t)$')"
   ]
  }
 ],
 "metadata": {
  "kernelspec": {
   "display_name": "Python 3 (ipykernel)",
   "language": "python",
   "name": "python3"
  },
  "language_info": {
   "codemirror_mode": {
    "name": "ipython",
    "version": 3
   },
   "file_extension": ".py",
   "mimetype": "text/x-python",
   "name": "python",
   "nbconvert_exporter": "python",
   "pygments_lexer": "ipython3",
   "version": "3.8.10"
  }
 },
 "nbformat": 4,
 "nbformat_minor": 5
}
